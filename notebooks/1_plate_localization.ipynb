{
 "cells": [
  {
   "cell_type": "markdown",
   "metadata": {},
   "source": [
    "# Plate Localization\n",
    "### This will locate the the plate number in image"
   ]
  },
  {
   "cell_type": "code",
   "execution_count": 1,
   "metadata": {},
   "outputs": [],
   "source": [
    "from ultralytics import YOLO"
   ]
  },
  {
   "cell_type": "code",
   "execution_count": 2,
   "metadata": {},
   "outputs": [],
   "source": [
    "def detect_objects(model, source, folder, object_type):\n",
    "    np_model = YOLO(model)\n",
    "    src = np_model.track(source, persist=True)\n",
    "    for i, result in enumerate(src):\n",
    "        result[0].save_crop(folder, file_name=f'{object_type}{i}')\n",
    "    print('done')"
   ]
  },
  {
   "cell_type": "code",
   "execution_count": 9,
   "metadata": {},
   "outputs": [],
   "source": [
    "def detect_cars(model, source, folder):\n",
    "    detect_objects(model, source, folder, 'car')\n",
    "\n",
    "def detect_plates(model, source, folder):\n",
    "    detect_objects(model, source, folder, 'plate')"
   ]
  },
  {
   "cell_type": "code",
   "execution_count": 3,
   "metadata": {},
   "outputs": [
    {
     "data": {
      "text/plain": [
       "'c:\\\\dev\\\\gen projects\\\\ANPR\\\\artifacts'"
      ]
     },
     "execution_count": 3,
     "metadata": {},
     "output_type": "execute_result"
    }
   ],
   "source": [
    "import os\n",
    "ARTIFACT_PATH = os.path.join(os.path.abspath(\"..\"),\"artifacts\")\n",
    "ARTIFACT_PATH"
   ]
  },
  {
   "cell_type": "code",
   "execution_count": 10,
   "metadata": {},
   "outputs": [
    {
     "name": "stdout",
     "output_type": "stream",
     "text": [
      "WARNING ⚠️ Unable to automatically guess model task, assuming 'task=detect'. Explicitly define task for your model, i.e. 'task=detect', 'segment', 'classify','pose' or 'obb'.\n",
      "Loading c:\\dev\\gen projects\\ANPR\\artifacts\\models\\best.torchscript for TorchScript inference...\n",
      "\n",
      "image 1/1 c:\\dev\\gen projects\\ANPR\\artifacts\\samples\\pandemic.jpg: 640x640 1 License_Plate, 1147.7ms\n",
      "Speed: 16.0ms preprocess, 1147.7ms inference, 2.9ms postprocess per image at shape (1, 3, 640, 640)\n",
      "done\n"
     ]
    }
   ],
   "source": [
    "detect_plates(os.path.join(ARTIFACT_PATH,\"models\",\"best.torchscript\"), os.path.join(ARTIFACT_PATH,\"samples\",\"pandemic.jpg\"), os.path.join(ARTIFACT_PATH,\"results\"))"
   ]
  },
  {
   "cell_type": "code",
   "execution_count": null,
   "metadata": {},
   "outputs": [],
   "source": []
  }
 ],
 "metadata": {
  "kernelspec": {
   "display_name": "anprenv",
   "language": "python",
   "name": "python3"
  },
  "language_info": {
   "codemirror_mode": {
    "name": "ipython",
    "version": 3
   },
   "file_extension": ".py",
   "mimetype": "text/x-python",
   "name": "python",
   "nbconvert_exporter": "python",
   "pygments_lexer": "ipython3",
   "version": "3.8.6"
  }
 },
 "nbformat": 4,
 "nbformat_minor": 2
}
